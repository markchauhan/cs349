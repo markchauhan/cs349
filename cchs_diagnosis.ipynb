{
  "nbformat": 4,
  "nbformat_minor": 0,
  "metadata": {
    "colab": {
      "provenance": []
    },
    "kernelspec": {
      "name": "python3",
      "display_name": "Python 3"
    },
    "language_info": {
      "name": "python"
    }
  },
  "cells": [
    {
      "cell_type": "code",
      "execution_count": null,
      "metadata": {
        "id": "MsrI0LOsmuEe"
      },
      "outputs": [],
      "source": [
        "import torch\n",
        "import torch.nn as nn\n",
        "import torch.optim as optim\n",
        "from torch.utils.data import DataLoader, TensorDataset\n",
        "from sklearn.model_selection import train_test_split\n",
        "from sklearn.preprocessing import StandardScaler\n",
        "import pandas as pd\n",
        "import numpy as np\n",
        "import matplotlib.pyplot as plt\n",
        "from imblearn.over_sampling import RandomOverSampler"
      ]
    },
    {
      "cell_type": "code",
      "source": [
        "train_data = pd.read_csv(\"samples_train_0.csv\")\n",
        "test_data = pd.read_csv(\"labels_train_0.csv\")\n",
        "\n",
        "X = train_data.iloc[:, 1:].values\n",
        "y = test_data.iloc[:, 1:].values\n",
        "\n",
        "# Split data into training and testing sets\n",
        "X_train, X_test, y_train, y_test = train_test_split(X, y, test_size=0.2, random_state=42)\n",
        "\n",
        "# Check the class distribution before oversampling\n",
        "print(\"Class distribution before oversampling:\")\n",
        "print(pd.Series(y_train.flatten()).value_counts())\n",
        "\n",
        "# Initialize the oversampler\n",
        "oversampler = RandomOverSampler(random_state=42)\n",
        "\n",
        "# Resample the training data\n",
        "X_train_resampled, y_train_resampled = oversampler.fit_resample(X_train, y_train)\n",
        "\n",
        "# Check the class distribution after oversampling\n",
        "print(\"Class distribution after oversampling:\")\n",
        "print(pd.Series(y_train_resampled.flatten()).value_counts())\n",
        "\n",
        "# Standardize the features using StandardScaler\n",
        "scaler = StandardScaler()\n",
        "X_train_resampled = scaler.fit_transform(X_train_resampled)\n",
        "X_test = scaler.transform(X_test)\n"
      ],
      "metadata": {
        "id": "7pmFbeMckDMq"
      },
      "execution_count": null,
      "outputs": []
    },
    {
      "cell_type": "code",
      "source": [
        "X_train_tensor = torch.FloatTensor(X_train)\n",
        "y_train_tensor = torch.FloatTensor(y_train).view(-1, 1)\n",
        "X_test_tensor = torch.FloatTensor(X_test)\n",
        "y_test_tensor = torch.FloatTensor(y_test).view(-1, 1)"
      ],
      "metadata": {
        "id": "c1L7s1zAwCgk"
      },
      "execution_count": null,
      "outputs": []
    },
    {
      "cell_type": "code",
      "source": [
        "# cnt = 0\n",
        "# total = len(y_train_tensor)\n",
        "# indexes = []\n",
        "# for i in range(0 ,len(y_train_tensor)):\n",
        "#     if y_train_tensor[i] == 1:\n",
        "#         indexes.append(i)"
      ],
      "metadata": {
        "id": "fYKBwprKa2-g"
      },
      "execution_count": null,
      "outputs": []
    },
    {
      "cell_type": "code",
      "source": [
        "class BinaryClassifier(nn.Module):\n",
        "    def __init__(self, input_size):\n",
        "        super(BinaryClassifier, self).__init__()\n",
        "        self.fc1 = nn.Linear(input_size, 139)\n",
        "        self.relu = nn.ReLU()\n",
        "        self.fc2 = nn.Linear(139, 64)\n",
        "        self.fc3 = nn.Linear(64, 1)\n",
        "        self.sigmoid = nn.Sigmoid()\n",
        "\n",
        "    def forward(self, x):\n",
        "        x = self.fc1(x)\n",
        "        x = self.relu(x)\n",
        "        x = self.fc2(x)\n",
        "        x = self.relu(x)\n",
        "        x = self.fc3(x)\n",
        "        x = self.sigmoid(x)\n",
        "        return x\n",
        "\n",
        "    def predict(self, x, threshold=0.4):\n",
        "        output = self.forward(x)\n",
        "        predictions = (output > threshold).float()\n",
        "        return predictions"
      ],
      "metadata": {
        "id": "EKcQGeDrwFfG"
      },
      "execution_count": null,
      "outputs": []
    },
    {
      "cell_type": "code",
      "source": [
        "input_size = X_train_tensor.shape[1]\n",
        "model = BinaryClassifier(input_size)"
      ],
      "metadata": {
        "id": "-SyrLX6fwI8O"
      },
      "execution_count": null,
      "outputs": []
    },
    {
      "cell_type": "code",
      "source": [
        "criterion = nn.BCELoss()\n",
        "optimizer = optim.Adam(model.parameters(), lr=0.001)"
      ],
      "metadata": {
        "id": "NQzlikv1wLJb"
      },
      "execution_count": null,
      "outputs": []
    },
    {
      "cell_type": "code",
      "source": [
        "from sklearn import svm\n",
        "\n",
        "clf = svm.SVC()\n",
        "clf.fit(X_train, y_train.ravel())\n"
      ],
      "metadata": {
        "id": "bAXJj73ViWI8"
      },
      "execution_count": null,
      "outputs": []
    },
    {
      "cell_type": "code",
      "source": [
        "epochs = 100\n",
        "train_loss = []\n",
        "valid_loss = []\n",
        "total_epochs = []\n",
        "for epoch in range(epochs):\n",
        "    optimizer.zero_grad()\n",
        "    outputs = model(X_train_tensor)\n",
        "    loss = criterion(outputs, y_train_tensor)\n",
        "    loss.backward()\n",
        "    optimizer.step()\n",
        "    # print(pd.Series(outputs.flatten().detach().numpy() <= 1).value_counts())\n",
        "    # print(pd.Series(y_train_tensor.flatten().detach().numpy()).value_counts())\n",
        "\n",
        "    if (epoch + 1) % 10 == 0:\n",
        "        total_epochs.append(epoch)\n",
        "        print(f'Epoch [{epoch+1}/{epochs}], Loss: {loss.item()}')\n",
        "        train_loss.append(loss.item())\n",
        "        model.eval()\n",
        "        with torch.no_grad():\n",
        "            outputs = model(X_test_tensor)\n",
        "            # predicted_labels = (predictions >= 0.5).float()\n",
        "            # accuracy = (predicted_labels == y_test_tensor).sum().item() / y_test_tensor.size(0)\n",
        "            average_valid_loss = criterion(outputs, y_test_tensor)\n",
        "            valid_loss.append(average_valid_loss)\n",
        "            print(f'Loss on the validation set: {average_valid_loss}')\n",
        "\n",
        "plt.plot(total_epochs, train_loss, label='Training Loss')\n",
        "plt.plot(total_epochs, valid_loss, label='Validation Loss')\n",
        "plt.xlabel('Epoch')\n",
        "plt.ylabel('Loss')\n",
        "plt.title('Model Training and Validation Loss')\n",
        "plt.legend()\n",
        "plt.show()"
      ],
      "metadata": {
        "id": "7T1abcKRwNIw"
      },
      "execution_count": null,
      "outputs": []
    },
    {
      "cell_type": "code",
      "source": [
        "test_data = pd.read_csv(\"samples_test_0.csv\")\n",
        "test_data_labels = pd.read_csv(\"labels_test_0.csv\")\n",
        "\n",
        "X = test_data.iloc[:, 1:].values\n",
        "y = test_data_labels.iloc[:, 1:].values\n",
        "\n",
        "scaler = StandardScaler()\n",
        "X = scaler.fit_transform(X)\n",
        "\n",
        "X_test_tensor = torch.FloatTensor(X)\n",
        "y_test_tensor = torch.FloatTensor(y).view(-1, 1)\n",
        "\n",
        "model.eval()\n",
        "predicted_labels = None\n",
        "with torch.no_grad():\n",
        "    predictions = model(X_test_tensor)\n",
        "    predicted_labels = (predictions >= 0.5).float()\n",
        "\n",
        "cnt = 0\n",
        "for i in range(0 ,len(predicted_labels)):\n",
        "    if y_test_tensor[i] == 1:\n",
        "        cnt += 1\n",
        "print(cnt, len(predicted_labels) - cnt)\n",
        "\n",
        "accuracy = (predicted_labels == y_test_tensor).sum().item() / len(y_test_tensor)\n",
        "# print(predicted_labels)\n",
        "print(f'Accuracy on the test set: {accuracy}')\n",
        "\n",
        "res = clf.predict(X)\n",
        "\n",
        "cnt = 0\n",
        "total = len(res)\n",
        "for idx, val in enumerate(res):\n",
        "    if val == y_test_tensor[idx]:\n",
        "        cnt += 1\n",
        "print(cnt/total)"
      ],
      "metadata": {
        "id": "Z1p4aLiPxYkY"
      },
      "execution_count": null,
      "outputs": []
    },
    {
      "cell_type": "code",
      "source": [
        "from sklearn import svm\n",
        "from sklearn.model_selection import train_test_split\n",
        "from sklearn.metrics import accuracy_score, confusion_matrix, precision_score, recall_score, f1_score\n",
        "import numpy as np\n",
        "\n",
        "accuracy = accuracy_score(y, predicted_labels)\n",
        "print(f'Accuracy: {accuracy:.2f}')\n",
        "\n",
        "# Generate confusion matrix\n",
        "conf_matrix = confusion_matrix(y, predicted_labels)\n",
        "print('Confusion Matrix:')\n",
        "print(conf_matrix)\n",
        "\n",
        "precision = precision_score(y, predicted_labels)\n",
        "recall = recall_score(y, predicted_labels)\n",
        "f1 = f1_score(y, predicted_labels)\n",
        "\n",
        "print(f'Precision: {precision:.2f}')\n",
        "print(f'Recall: {recall:.2f}')\n",
        "print(f'F1 Score: {f1:.2f}')"
      ],
      "metadata": {
        "id": "B8S5-ohKxatD"
      },
      "execution_count": null,
      "outputs": []
    }
  ]
}